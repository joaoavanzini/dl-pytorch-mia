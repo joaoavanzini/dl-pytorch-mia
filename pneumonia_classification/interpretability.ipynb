{
 "cells": [
  {
   "cell_type": "markdown",
   "id": "desirable-healthcare",
   "metadata": {
    "pycharm": {
     "name": "#%% md\n"
    }
   },
   "source": [
    "## Visualize the decision of the classifier\n",
    "In this notebook we will learn how to use Class Acvitation Maps (CAM) (https://arxiv.org/abs/1512.04150). <br />\n",
    "A method to visualize image regions most important for the decision of the classifier."
   ]
  },
  {
   "cell_type": "markdown",
   "id": "opposite-bundle",
   "metadata": {
    "pycharm": {
     "name": "#%% md\n"
    }
   },
   "source": [
    "## Imports\n",
    "\n",
    "* torch for tensor manipulation\n",
    "* torchvision for resnet18\n",
    "* transforms for Normalization\n",
    "* pytorch lightning for model creation\n",
    "* numpy for data loading\n",
    "* matplotlib for plotting"
   ]
  },
  {
   "cell_type": "code",
   "execution_count": null,
   "id": "sealed-retreat",
   "metadata": {
    "pycharm": {
     "name": "#%%\n"
    }
   },
   "outputs": [],
   "source": [
    "%matplotlib notebook\n",
    "import torch\n",
    "import torchvision\n",
    "from torchvision import transforms\n",
    "import pytorch_lightning as pl\n",
    "import numpy as np\n",
    "import matplotlib.pyplot as plt"
   ]
  },
  {
   "cell_type": "markdown",
   "id": "residential-stanley",
   "metadata": {
    "pycharm": {
     "name": "#%% md\n"
    }
   },
   "source": [
    "The dataset of the previous notebook is used."
   ]
  },
  {
   "cell_type": "code",
   "execution_count": null,
   "id": "latter-intake",
   "metadata": {
    "pycharm": {
     "name": "#%%\n"
    }
   },
   "outputs": [],
   "source": [
    "def load_file(path):\n",
    "    return np.load(path).astype(np.float32)\n"
   ]
  },
  {
   "cell_type": "code",
   "execution_count": null,
   "id": "painful-caribbean",
   "metadata": {
    "pycharm": {
     "name": "#%%\n"
    }
   },
   "outputs": [],
   "source": [
    "val_transforms = transforms.Compose([\n",
    "                                transforms.ToTensor(),\n",
    "                                transforms.Normalize(0.49, 0.248),\n",
    "\n",
    "])\n",
    "\n",
    "val_dataset = torchvision.datasets.DatasetFolder(\"Processed/val/\", loader=load_file, extensions=\"npy\", transform=val_transforms)"
   ]
  },
  {
   "cell_type": "markdown",
   "id": "mature-density",
   "metadata": {
    "pycharm": {
     "name": "#%% md\n"
    }
   },
   "source": [
    "The key idea of CAM is to multiply the output of the last convolutional layer (BasicBlock 1 of layer 4) $A_k$ (consisting of k channels) with the parameters $w$ of the subsequent fully connected layer to compute an activation map $M$:\n",
    "$$ M = \\sum_k w_kA_k$$\n",
    "\n",
    "To do so, we need to access this particular output of the trained resnet18.<br />\n",
    "Let's recap the resnet architecture:"
   ]
  },
  {
   "cell_type": "code",
   "execution_count": null,
   "id": "clear-integration",
   "metadata": {
    "scrolled": true,
    "pycharm": {
     "name": "#%%\n"
    }
   },
   "outputs": [],
   "source": [
    "temp_model = torchvision.models.resnet18()\n",
    "temp_model"
   ]
  },
  {
   "cell_type": "markdown",
   "id": "growing-calendar",
   "metadata": {
    "pycharm": {
     "name": "#%% md\n"
    }
   },
   "source": [
    "We can convert the network to a generator using the **children()** function.<br />\n",
    "This means that we can use the list function to convert it into a list!<br />\n",
    "The convolutional part of the network comprises all layers up to the AdaptiveAvgPool2d layer."
   ]
  },
  {
   "cell_type": "code",
   "execution_count": null,
   "id": "outer-trainer",
   "metadata": {
    "scrolled": true,
    "pycharm": {
     "name": "#%%\n"
    }
   },
   "outputs": [],
   "source": [
    "list(temp_model.children())[:-2]  # get all layers up to avgpool"
   ]
  },
  {
   "cell_type": "markdown",
   "id": "immune-break",
   "metadata": {
    "pycharm": {
     "name": "#%% md\n"
    }
   },
   "source": [
    "Using **Sequential** from pytorch, we convert the list of layers back to a Sequential Model.\n"
   ]
  },
  {
   "cell_type": "code",
   "execution_count": null,
   "id": "through-commission",
   "metadata": {
    "scrolled": true,
    "pycharm": {
     "name": "#%%\n"
    }
   },
   "outputs": [],
   "source": [
    "torch.nn.Sequential(*list(temp_model.children())[:-2])"
   ]
  },
  {
   "cell_type": "markdown",
   "id": "narrative-transport",
   "metadata": {
    "pycharm": {
     "name": "#%% md\n"
    }
   },
   "source": [
    "Now we are ready to go.<br />\n",
    "We add an additional output to the forward function of our pneumonia model, to return the feature maps of the last convolutional layer ($A$)\n",
    "\n",
    "We extract the feature map in the forward pass, followed by global average pooling and flattening.\n",
    "Finally we use the fully connected layer to compute the final class prediction."
   ]
  },
  {
   "cell_type": "code",
   "execution_count": null,
   "id": "motivated-eagle",
   "metadata": {
    "pycharm": {
     "name": "#%%\n"
    }
   },
   "outputs": [],
   "source": [
    "class PneumoniaModel(pl.LightningModule):\n",
    "    def __init__(self):\n",
    "        super().__init__()\n",
    "        \n",
    "        self.model = torchvision.models.resnet18()\n",
    "        # Change conv1 from 3 to 1 input channels\n",
    "        self.model.conv1 = torch.nn.Conv2d(1, 64, kernel_size=(7, 7), stride=(2, 2), padding=(3, 3), bias=False)\n",
    "        # Change out_feature of the last fully connected layer (called fc in resnet18) from 1000 to 1\n",
    "        self.model.fc = torch.nn.Linear(in_features=512, out_features=1)\n",
    "        \n",
    "        # Extract the feature map\n",
    "        self.feature_map = torch.nn.Sequential(*list(self.model.children())[:-2])    \n",
    "    def forward(self, data):\n",
    "        \n",
    "        # Compute feature map\n",
    "        feature_map = self.feature_map(data)\n",
    "        # Use Adaptive Average Pooling as in the original model\n",
    "        avg_pool_output = torch.nn.functional.adaptive_avg_pool2d(input=feature_map, output_size=(1, 1))\n",
    "        print(avg_pool_output.shape)\n",
    "        # Flatten the output into a 512 element vector\n",
    "        avg_pool_output_flattened = torch.flatten(avg_pool_output)\n",
    "        print(avg_pool_output_flattened.shape)\n",
    "        # Compute prediction\n",
    "        pred = self.model.fc(avg_pool_output_flattened)\n",
    "        return pred, feature_map\n",
    "    \n"
   ]
  },
  {
   "cell_type": "code",
   "execution_count": null,
   "id": "alike-absence",
   "metadata": {
    "pycharm": {
     "name": "#%%\n"
    }
   },
   "outputs": [],
   "source": [
    "def cam(model, img):\n",
    "    with torch.no_grad():\n",
    "        pred, features = model(img.unsqueeze(0))\n",
    "    features = features.reshape((512, 49))\n",
    "    weight_params = list(model.model.fc.parameters())[0]\n",
    "    weight = weight_params[0].detach()\n",
    "    \n",
    "    \n",
    "    cam = torch.matmul(weight, features)\n",
    "    cam_img = cam.reshape(7, 7).cpu()\n",
    "    return cam_img, torch.sigmoid(pred)"
   ]
  },
  {
   "cell_type": "code",
   "execution_count": null,
   "id": "seventh-activity",
   "metadata": {
    "scrolled": true,
    "pycharm": {
     "name": "#%%\n"
    }
   },
   "outputs": [],
   "source": [
    "# Use strict to prevent pytorch from loading weights for self.feature_map\n",
    "model = PneumoniaModel.load_from_checkpoint(\"weights/weights_3.ckpt\", strict=False)\n",
    "model.eval();"
   ]
  },
  {
   "cell_type": "markdown",
   "id": "precise-discount",
   "metadata": {
    "pycharm": {
     "name": "#%% md\n"
    }
   },
   "source": [
    "## CAM\n",
    "Now we can define the CAM function by using the formula from above:"
   ]
  },
  {
   "cell_type": "code",
   "execution_count": null,
   "id": "stable-driving",
   "metadata": {
    "pycharm": {
     "name": "#%%\n"
    }
   },
   "outputs": [],
   "source": [
    "def cam(model, img):\n",
    "    \"\"\"\n",
    "    Compute class activation map according to cam algorithm\n",
    "    \"\"\"\n",
    "    with torch.no_grad():\n",
    "        pred, features = model(img.unsqueeze(0))\n",
    "    b, c, h, w = features.shape\n",
    "\n",
    "    # We reshape the 512x7x7 feature tensor into a 512x49 tensor in order to simplify the multiplication\n",
    "    features = features.reshape((c, h*w))\n",
    "    \n",
    "    # Get only the weights, not the bias\n",
    "    weight_params = list(model.model.fc.parameters())[0] \n",
    "    \n",
    "    # Remove gradient information from weight parameters to enable numpy conversion\n",
    "    weight = weight_params[0].detach()\n",
    "    print(weight.shape)\n",
    "    # Compute multiplication between weight and features with the formula from above.\n",
    "    # We use matmul because it directly multiplies each filter with the weights\n",
    "    # and then computes the sum. This yields a vector of 49 (7x7 elements)\n",
    "    cam = torch.matmul(weight, features)\n",
    "    print(features.shape)\n",
    "    \n",
    "    ### The following loop performs the same operations in a less optimized way\n",
    "    #cam = torch.zeros((7 * 7))\n",
    "    #for i in range(len(cam)):\n",
    "    #    cam[i] = torch.sum(weight*features[:,i])\n",
    "    ##################################################################\n",
    "    \n",
    "    # Normalize and standardize the class activation map (Not always necessary, thus not shown in the lecture)\n",
    "    cam = cam - torch.min(cam)\n",
    "    cam_img = cam / torch.max(cam)\n",
    "    # Reshape the class activation map to 512x7x7 and move the tensor back to CPU\n",
    "    cam_img = cam_img.reshape(h, w).cpu()\n",
    "\n",
    "    return cam_img, torch.sigmoid(pred)\n",
    "\n",
    "def visualize(img, heatmap, pred):\n",
    "    \"\"\"\n",
    "    Visualization function for class activation maps\n",
    "    \"\"\"\n",
    "    img = img[0]\n",
    "    # Resize the activation map of size 7x7 to the original image size (224x224)\n",
    "    heatmap = transforms.functional.resize(heatmap.unsqueeze(0), (img.shape[0], img.shape[1]))[0]\n",
    "    \n",
    "    # Create a figure\n",
    "    fig, axis = plt.subplots(1, 2)\n",
    "    \n",
    "    axis[0].imshow(img, cmap=\"bone\")\n",
    "    # Overlay the original image with the upscaled class activation map\n",
    "    axis[1].imshow(img, cmap=\"bone\")\n",
    "    axis[1].imshow(heatmap, alpha=0.5, cmap=\"jet\")\n",
    "    plt.title(f\"Pneumonia: {(pred > 0.5).item()}\")"
   ]
  },
  {
   "cell_type": "code",
   "execution_count": null,
   "id": "fresh-casino",
   "metadata": {
    "pycharm": {
     "name": "#%%\n"
    }
   },
   "outputs": [],
   "source": [
    "def visualize(img, cam, pred):\n",
    "    img = img[0]\n",
    "    cam = transforms.functional.resize(cam.unsqueeze(0), (224, 224))[0]\n",
    "    \n",
    "    fig, axis = plt.subplots(1, 2)\n",
    "    axis[0].imshow(img, cmap=\"bone\")\n",
    "    axis[1].imshow(img, cmap=\"bone\")\n",
    "    axis[1].imshow(cam, alpha=0.5, cmap=\"jet\")\n",
    "    plt.title(pred)"
   ]
  },
  {
   "cell_type": "markdown",
   "id": "extended-departure",
   "metadata": {
    "pycharm": {
     "name": "#%% md\n"
    }
   },
   "source": [
    "## Demo Time"
   ]
  },
  {
   "cell_type": "code",
   "execution_count": null,
   "id": "assigned-replacement",
   "metadata": {
    "scrolled": true,
    "pycharm": {
     "name": "#%%\n"
    }
   },
   "outputs": [],
   "source": [
    "img = val_dataset[-6][0]  # Select a subject\n",
    "activation_map, pred = cam(model, img)  # Compute the Class activation map given the subject"
   ]
  },
  {
   "cell_type": "code",
   "execution_count": null,
   "id": "hungarian-lighting",
   "metadata": {
    "pycharm": {
     "name": "#%%\n"
    }
   },
   "outputs": [],
   "source": [
    "visualize(img, activation_map, pred)  # Visualize CAM"
   ]
  },
  {
   "cell_type": "markdown",
   "id": "rapid-vintage",
   "metadata": {
    "pycharm": {
     "name": "#%% md\n"
    }
   },
   "source": [
    "The heatmap focuses on the area which shows signs of pneumonia, isn't that cool?"
   ]
  },
  {
   "cell_type": "markdown",
   "id": "existing-neighborhood",
   "metadata": {
    "pycharm": {
     "name": "#%% md\n"
    }
   },
   "source": [
    "Awesome, you made it! <br />\n",
    "You can try out this method for all neural networks with one restriction: The classic CAM algorithm requrires a specific network architecture:<br />\n",
    "Last Convolution $\\rightarrow$ Global Average Pool $\\rightarrow$ 1 FC Layer.\n",
    "\n",
    "For other network architectures, you either need to adapt the architecture, followed by retraining our use different methods such as GradCAM or ScoreCAM (https://arxiv.org/abs/1610.02391), (https://arxiv.org/abs/1910.01279)"
   ]
  }
 ],
 "metadata": {
  "kernelspec": {
   "display_name": "Udemy",
   "language": "python",
   "name": "udemy"
  },
  "language_info": {
   "codemirror_mode": {
    "name": "ipython",
    "version": 3
   },
   "file_extension": ".py",
   "mimetype": "text/x-python",
   "name": "python",
   "nbconvert_exporter": "python",
   "pygments_lexer": "ipython3",
   "version": "3.7.0"
  }
 },
 "nbformat": 4,
 "nbformat_minor": 5
}